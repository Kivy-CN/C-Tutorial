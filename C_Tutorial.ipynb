{
 "cells": [
  {
   "cell_type": "code",
   "execution_count": 2,
   "id": "59124aff-7d4f-4536-ab84-d7cdae398adc",
   "metadata": {},
   "outputs": [
    {
     "name": "stdout",
     "output_type": "stream",
     "text": [
      "Hello, World! \n"
     ]
    }
   ],
   "source": [
    "#include <stdio.h>\n",
    " \n",
    "int main()\n",
    "{\n",
    "    /* 我的第一个 C 程序 */\n",
    "    //Prints the string \"Hello, World!\" to the console\n",
    "    printf(\"Hello, World! \\n\"); \n",
    "    return 0;\n",
    "}"
   ]
  }
 ],
 "metadata": {
  "kernelspec": {
   "display_name": "C",
   "language": "c",
   "name": "c"
  },
  "language_info": {
   "file_extension": ".c",
   "mimetype": "text/plain",
   "name": "c"
  }
 },
 "nbformat": 4,
 "nbformat_minor": 5
}
